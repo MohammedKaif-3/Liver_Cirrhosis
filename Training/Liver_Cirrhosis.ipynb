{
  "cells": [
    {
      "cell_type": "code",
      "execution_count": null,
      "metadata": {
        "id": "5hONWiZz_KWk"
      },
      "outputs": [],
      "source": [
        "import numpy as np\n",
        "import pandas as pd\n",
        "from sklearn.impute import SimpleImputer\n",
        "from sklearn.preprocessing import LabelEncoder\n",
        "from sklearn.model_selection import train_test_split\n",
        "from sklearn.ensemble import RandomForestClassifier\n",
        "from sklearn.model_selection import StratifiedShuffleSplit\n",
        "from imblearn.over_sampling import SMOTE\n",
        "from sklearn.linear_model import LogisticRegression,  LogisticRegressionCV, RidgeClassifier\n",
        "from sklearn.ensemble import RandomForestClassifier\n",
        "from xgboost import XGBClassifier\n",
        "from sklearn.svm import SVC\n",
        "from sklearn.neighbors import KNeighborsClassifier\n",
        "from sklearn.model_selection import GridSearchCV\n",
        "from sklearn.preprocessing import StandardScaler\n",
        "from sklearn.metrics import classification_report, confusion_matrix, roc_auc_score, accuracy_score, precision_score, recall_score, f1_score\n",
        "import joblib"
      ]
    },
    {
      "cell_type": "code",
      "execution_count": null,
      "metadata": {
        "id": "Q4dvgTdI_QN3"
      },
      "outputs": [],
      "source": [
        "df = pd.read_excel('/content/HealthCareData.xlsx')\n",
        "pd.set_option('display.max_columns', None)"
      ]
    },
    {
      "cell_type": "code",
      "execution_count": null,
      "metadata": {
        "id": "2DG37P4__VSG"
      },
      "outputs": [],
      "source": [
        "def clean_dataset(df):\n",
        "    # Standardize column names\n",
        "    df.columns = df.columns.str.strip().str.replace(r\"\\s+\", \" \", regex=True)\n",
        "\n",
        "    # Define columns to drop explicitly\n",
        "    columns_to_drop = [\n",
        "        \"S.NO\",\n",
        "        \"Type of alcohol consumed\"\n",
        "    ]\n",
        "\n",
        "    # Drop explicitly unwanted columns (if they exist)\n",
        "    df = df.drop(columns=[col for col in columns_to_drop if col in df.columns])\n",
        "\n",
        "    # Drop columns with more than 50% missing values\n",
        "    missing_threshold = 0.5\n",
        "    df = df.loc[:, df.isnull().mean() <= missing_threshold]\n",
        "\n",
        "    # Remove rows of Label null values\n",
        "    df = df.dropna(subset=[\"Predicted Value(Out Come-Patient suffering from liver cirrosis or not)\"])\n",
        "\n",
        "    # Drop duplicates\n",
        "    df = df.drop_duplicates()\n",
        "\n",
        "    if 'Blood pressure (mmhg)' in df.columns:\n",
        "      bp_split = df['Blood pressure (mmhg)'].str.split('/', expand=True)\n",
        "      df['BP_Systolic'] = pd.to_numeric(bp_split[0], errors='coerce')\n",
        "      df['BP_Diastolic'] = pd.to_numeric(bp_split[1], errors='coerce')\n",
        "      df.drop(columns=['Blood pressure (mmhg)'], inplace=True)\n",
        "\n",
        "    return df"
      ]
    },
    {
      "cell_type": "code",
      "execution_count": null,
      "metadata": {
        "colab": {
          "base_uri": "https://localhost:8080/"
        },
        "id": "PAAUeb5sAzup",
        "outputId": "6eb86d38-90ac-4bee-d325-2960b2a7bc64"
      },
      "outputs": [],
      "source": [
        "df.shape"
      ]
    },
    {
      "cell_type": "code",
      "execution_count": null,
      "metadata": {
        "id": "myKuH9r-_WhO"
      },
      "outputs": [],
      "source": [
        "df = clean_dataset(df)\n",
        "df = df.rename(columns={\n",
        "    \"Predicted Value(Out Come-Patient suffering from liver cirrosis or not)\": \"Target\"\n",
        "})"
      ]
    },
    {
      "cell_type": "code",
      "execution_count": null,
      "metadata": {
        "colab": {
          "base_uri": "https://localhost:8080/"
        },
        "id": "kw7BTwox_6c-",
        "outputId": "71eb5f05-b42a-40b5-ce66-74d2c1ac69f0"
      },
      "outputs": [],
      "source": [
        "df.shape"
      ]
    },
    {
      "cell_type": "code",
      "execution_count": null,
      "metadata": {
        "colab": {
          "base_uri": "https://localhost:8080/",
          "height": 372
        },
        "id": "_6VdP200FET-",
        "outputId": "dade6014-c363-4ed6-a8ce-3f18bc858fc5"
      },
      "outputs": [],
      "source": [
        "df.describe()"
      ]
    },
    {
      "cell_type": "code",
      "execution_count": null,
      "metadata": {
        "colab": {
          "base_uri": "https://localhost:8080/",
          "height": 1000
        },
        "id": "WpEXIEwt_69m",
        "outputId": "a96a4105-3671-4b74-f01e-68400c439a95"
      },
      "outputs": [],
      "source": [
        "df.isnull().sum()"
      ]
    },
    {
      "cell_type": "code",
      "execution_count": null,
      "metadata": {
        "colab": {
          "base_uri": "https://localhost:8080/"
        },
        "id": "vf2B_nbhGTCS",
        "outputId": "15d15a19-fcf5-4491-fcea-2112359bfaa1"
      },
      "outputs": [],
      "source": [
        "df.shape"
      ]
    },
    {
      "cell_type": "code",
      "execution_count": null,
      "metadata": {
        "colab": {
          "base_uri": "https://localhost:8080/"
        },
        "id": "exmDxDRKZEBa",
        "outputId": "3bb48dc1-6c89-4e09-9f8e-83330a0551ff"
      },
      "outputs": [],
      "source": [
        "print(df[\"Target\"].value_counts())"
      ]
    },
    {
      "cell_type": "code",
      "execution_count": null,
      "metadata": {
        "colab": {
          "base_uri": "https://localhost:8080/"
        },
        "id": "ctHy47w1GcOb",
        "outputId": "e70f8fe2-d1ef-4f80-c5e7-e666aa4f3720"
      },
      "outputs": [],
      "source": [
        "df.shape"
      ]
    },
    {
      "cell_type": "code",
      "execution_count": null,
      "metadata": {
        "colab": {
          "base_uri": "https://localhost:8080/",
          "height": 1000
        },
        "id": "B0xmUK5WDyYn",
        "outputId": "ecd2eb20-d29c-4405-f164-62a8dbaa1fe9"
      },
      "outputs": [],
      "source": [
        "df.isnull().mean()*100"
      ]
    },
    {
      "cell_type": "code",
      "execution_count": null,
      "metadata": {
        "id": "7KfIx_KGEBcn"
      },
      "outputs": [],
      "source": [
        "def handle_missing_values(df):\n",
        "    df = df.copy()  # Avoid SettingWithCopyWarning\n",
        "\n",
        "    # Separate numeric and categorical columns\n",
        "    numeric_cols = df.select_dtypes(include=[\"number\"]).columns\n",
        "    categorical_cols = df.select_dtypes(include=[\"object\", \"category\"]).columns\n",
        "\n",
        "    # Impute numeric columns with median\n",
        "    if len(numeric_cols) > 0:\n",
        "        median_imputer = SimpleImputer(strategy=\"median\")\n",
        "        df[numeric_cols] = pd.DataFrame(\n",
        "            median_imputer.fit_transform(df[numeric_cols]),\n",
        "            columns=numeric_cols,\n",
        "            index=df.index\n",
        "        )\n",
        "\n",
        "    # Impute categorical columns with mode\n",
        "    if len(categorical_cols) > 0:\n",
        "        mode_imputer = SimpleImputer(strategy=\"most_frequent\")\n",
        "        df[categorical_cols] = pd.DataFrame(\n",
        "            mode_imputer.fit_transform(df[categorical_cols]),\n",
        "            columns=categorical_cols,\n",
        "            index=df.index\n",
        "        )\n",
        "\n",
        "    return df"
      ]
    },
    {
      "cell_type": "code",
      "execution_count": null,
      "metadata": {
        "id": "Z4OrDJzKEDWn"
      },
      "outputs": [],
      "source": [
        "df = handle_missing_values(df)"
      ]
    },
    {
      "cell_type": "code",
      "execution_count": null,
      "metadata": {
        "colab": {
          "base_uri": "https://localhost:8080/",
          "height": 1000
        },
        "id": "1xIbSKYvJYhQ",
        "outputId": "10007284-3592-443f-f3b7-f2385eee2b57"
      },
      "outputs": [],
      "source": [
        "df.isnull().sum()"
      ]
    },
    {
      "cell_type": "code",
      "execution_count": null,
      "metadata": {
        "colab": {
          "base_uri": "https://localhost:8080/",
          "height": 296
        },
        "id": "ykXHrQgYKW9-",
        "outputId": "88990d1c-1663-47aa-f756-0d6190e20e63"
      },
      "outputs": [],
      "source": [
        "df.head()"
      ]
    },
    {
      "cell_type": "code",
      "execution_count": null,
      "metadata": {
        "id": "mksWDXfaJb4g"
      },
      "outputs": [],
      "source": [
        "def label_encode_binary_columns(df, columns_to_encode):\n",
        "    \"\"\"\n",
        "    Replace categorical values with numerical values and avoid FutureWarning.\n",
        "\n",
        "    \"\"\"\n",
        "    mapping = {\n",
        "        'YES': 1, 'NO': 0,\n",
        "        'POSITIVE': 1, 'NEGATIVE': 0,\n",
        "        'MALE': 1, 'FEMALE': 0,\n",
        "        'RURAL': 1, 'URBAN': 0\n",
        "    }\n",
        "\n",
        "    for col in columns_to_encode:\n",
        "        if col in df.columns:\n",
        "            # Use Series.map() instead of replace() to avoid downcasting warning\n",
        "            df[col] = df[col].astype(str).str.strip().str.upper().map(mapping).astype('float64')\n",
        "    return df"
      ]
    },
    {
      "cell_type": "code",
      "execution_count": null,
      "metadata": {
        "id": "BTDYY4qGKZ3Q"
      },
      "outputs": [],
      "source": [
        "binary_cols = [\n",
        "    \"Hepatitis B infection\",\n",
        "    \"Hepatitis C infection\",\n",
        "    \"Diabetes Result\",\n",
        "    \"Obesity\",\n",
        "    \"Place(location where the patient lives)\",\n",
        "    \"USG Abdomen (diffuse liver or not)\",\n",
        "    \"Target\",\n",
        "    \"Family history of cirrhosis/ hereditary\",\n",
        "    \"Gender\"\n",
        "]\n",
        "\n",
        "df = label_encode_binary_columns(df, binary_cols)"
      ]
    },
    {
      "cell_type": "code",
      "execution_count": null,
      "metadata": {
        "colab": {
          "base_uri": "https://localhost:8080/",
          "height": 296
        },
        "id": "fRGvXF66KcQY",
        "outputId": "d7f8d6a0-9dbd-4b09-a88a-0eca70646d3e"
      },
      "outputs": [],
      "source": [
        "df.head()"
      ]
    },
    {
      "cell_type": "code",
      "execution_count": null,
      "metadata": {
        "colab": {
          "base_uri": "https://localhost:8080/",
          "height": 1000
        },
        "id": "kpB5D3A5fupp",
        "outputId": "db490dce-1735-4231-cba8-1cdc9c68b384"
      },
      "outputs": [],
      "source": [
        "df.dtypes"
      ]
    },
    {
      "cell_type": "code",
      "execution_count": null,
      "metadata": {
        "id": "Os8QIRHIXLZV"
      },
      "outputs": [],
      "source": [
        "def convert_object_columns_to_numeric(df):\n",
        "    \"\"\"\n",
        "    Convert object-type columns to numeric where possible.\n",
        "    Invalid parsing will result in NaN (and can be handled after).\n",
        "    \"\"\"\n",
        "    obj_cols = df.select_dtypes(include='object').columns\n",
        "    for col in obj_cols:\n",
        "        try:\n",
        "            df[col] = pd.to_numeric(df[col], errors='coerce')\n",
        "        except Exception as e:\n",
        "            print(f\"⚠️ Column '{col}' could not be fully converted: {e}\")\n",
        "    df = handle_missing_values(df)\n",
        "    return df"
      ]
    },
    {
      "cell_type": "code",
      "execution_count": null,
      "metadata": {
        "id": "ccvIOcPXYLmS"
      },
      "outputs": [],
      "source": [
        "df = convert_object_columns_to_numeric(df)"
      ]
    },
    {
      "cell_type": "code",
      "execution_count": null,
      "metadata": {
        "colab": {
          "base_uri": "https://localhost:8080/",
          "height": 296
        },
        "id": "KQwZpsP-Azz4",
        "outputId": "73bccaff-90fd-42f9-c3af-b1b01a3a22ec"
      },
      "outputs": [],
      "source": [
        "df.head()"
      ]
    },
    {
      "cell_type": "code",
      "execution_count": null,
      "metadata": {
        "id": "-XdL58USK7WQ"
      },
      "outputs": [],
      "source": [
        "# Creating function for outliers detection\n",
        "def detect_outliers_iqr(df, features, threshold=1.5):\n",
        "    outlier_indices = {}\n",
        "\n",
        "    for col in features:\n",
        "        Q1 = df[col].quantile(0.25)\n",
        "        Q3 = df[col].quantile(0.75)\n",
        "        IQR = Q3 - Q1\n",
        "        lower_bound = Q1 - threshold * IQR\n",
        "        upper_bound = Q3 + threshold * IQR\n",
        "\n",
        "        outliers = df[(df[col] < lower_bound) | (df[col] > upper_bound)].index\n",
        "        outlier_indices[col] = outliers.tolist()\n",
        "\n",
        "        print(f\"📌 {col}: {len(outliers)} outliers\")\n",
        "\n",
        "    return outlier_indices"
      ]
    },
    {
      "cell_type": "code",
      "execution_count": null,
      "metadata": {
        "colab": {
          "base_uri": "https://localhost:8080/"
        },
        "id": "3-FrzGk7RV3B",
        "outputId": "f419d132-ffd0-44cf-8187-8e183fd5955a"
      },
      "outputs": [],
      "source": [
        "# outliers detection\n",
        "numeric_features = df.select_dtypes(include=['float64', 'int64']).columns.tolist()\n",
        "outlier_dict = detect_outliers_iqr(df, numeric_features)"
      ]
    },
    {
      "cell_type": "code",
      "execution_count": null,
      "metadata": {
        "id": "1ps6E9UmRXwp"
      },
      "outputs": [],
      "source": [
        "# Function to cap outliers\n",
        "def cap_outliers(df, features, threshold=1.5):\n",
        "    for col in features:\n",
        "        Q1 = df[col].quantile(0.25)\n",
        "        Q3 = df[col].quantile(0.75)\n",
        "        IQR = Q3 - Q1\n",
        "        lower_bound = Q1 - threshold * IQR\n",
        "        upper_bound = Q3 + threshold * IQR\n",
        "\n",
        "        df[col] = df[col].clip(lower=lower_bound, upper=upper_bound)\n",
        "    return df"
      ]
    },
    {
      "cell_type": "code",
      "execution_count": null,
      "metadata": {
        "id": "epkRT88eRjeQ"
      },
      "outputs": [],
      "source": [
        "# Capping outliers\n",
        "# Get numeric features excluding the target column\n",
        "numeric_features = df.select_dtypes(include=['float64', 'int64']).columns.tolist()\n",
        "numeric_features = [col for col in numeric_features if col != \"Target\"]\n",
        "\n",
        "# Apply outlier capping only on features\n",
        "df = cap_outliers(df, numeric_features)"
      ]
    },
    {
      "cell_type": "code",
      "execution_count": null,
      "metadata": {
        "id": "nlVKDzNwRuEQ"
      },
      "outputs": [],
      "source": [
        "# Split Features and Target\n",
        "X = df.drop(columns=[\"Target\"])\n",
        "y = df[\"Target\"]"
      ]
    },
    {
      "cell_type": "code",
      "execution_count": null,
      "metadata": {
        "id": "N5JPlo9ySYOA"
      },
      "outputs": [],
      "source": [
        "# function for feature selection\n",
        "def select_features_by_importance(X, y, top_n=20, random_state=42):\n",
        "    \"\"\"\n",
        "    Select top N important features using Random Forest feature importances.\n",
        "\n",
        "    Parameters:\n",
        "    - X: DataFrame of features\n",
        "    - y: Series or array-like target\n",
        "    - top_n: number of top features to select (default: 20)\n",
        "    - random_state: reproducibility\n",
        "\n",
        "    Returns:\n",
        "    - DataFrame containing only the top N important features\n",
        "    \"\"\"\n",
        "    rf = RandomForestClassifier(random_state=random_state)\n",
        "    rf.fit(X, y)\n",
        "\n",
        "    # Create a series of importances\n",
        "    importances = pd.Series(rf.feature_importances_, index=X.columns)\n",
        "\n",
        "    # Sort and get top N\n",
        "    top_features = importances.sort_values(ascending=False).head(top_n).index\n",
        "\n",
        "    # Return filtered DataFrame\n",
        "    return X[top_features]\n"
      ]
    },
    {
      "cell_type": "code",
      "execution_count": null,
      "metadata": {
        "id": "y4-TfdT7T3n4"
      },
      "outputs": [],
      "source": [
        "# selecting top important features\n",
        "X_selected = select_features_by_importance(X, y, top_n=20)"
      ]
    },
    {
      "cell_type": "code",
      "execution_count": null,
      "metadata": {
        "colab": {
          "base_uri": "https://localhost:8080/",
          "height": 496
        },
        "id": "aZXfc0INVGpQ",
        "outputId": "f71db4b4-1036-4570-963a-87afbf1cc45c"
      },
      "outputs": [],
      "source": [
        "X_selected"
      ]
    },
    {
      "cell_type": "code",
      "execution_count": null,
      "metadata": {
        "id": "EwbP1CCPYCRJ"
      },
      "outputs": [],
      "source": [
        "# Split data with StratifiedShuffleSplit\n",
        "\n",
        "sss = StratifiedShuffleSplit(n_splits=1, test_size=0.2, random_state=42)\n",
        "\n",
        "for train_idx, test_idx in sss.split(X_selected, y):\n",
        "    X_train, X_test = X_selected.iloc[train_idx], X_selected.iloc[test_idx]\n",
        "    y_train, y_test = y.iloc[train_idx], y.iloc[test_idx]"
      ]
    },
    {
      "cell_type": "code",
      "execution_count": null,
      "metadata": {
        "id": "2DAUaNRfqE8z"
      },
      "outputs": [],
      "source": [
        "# Feature Scaling\n",
        "scaler = StandardScaler()\n",
        "X_train_scaled = scaler.fit_transform(X_train)  # Fit only on training data\n",
        "X_test_scaled = scaler.transform(X_test)"
      ]
    },
    {
      "cell_type": "code",
      "execution_count": null,
      "metadata": {
        "colab": {
          "base_uri": "https://localhost:8080/",
          "height": 178
        },
        "id": "EsahZK6jj7eI",
        "outputId": "0e8cd386-ada1-4d45-e53e-502560df7bcf"
      },
      "outputs": [],
      "source": [
        "y_test.value_counts()"
      ]
    },
    {
      "cell_type": "code",
      "execution_count": null,
      "metadata": {
        "id": "WokeFjItY72J"
      },
      "outputs": [],
      "source": [
        "# Resampling to avoid class imbalance\n",
        "smote = SMOTE(random_state=42)\n",
        "X_resampled, y_resampled = smote.fit_resample(X_train_scaled, y_train)"
      ]
    },
    {
      "cell_type": "code",
      "execution_count": null,
      "metadata": {
        "id": "yna_k9rhTtQQ"
      },
      "outputs": [],
      "source": [
        "# Comparing multiple algorithms\n",
        "def models_eval_mm(X_test_scaled, y_test, X_resampled, y_resampled):\n",
        "    models = {\n",
        "        \"Logistic Regression\": LogisticRegression(max_iter=1000),\n",
        "        \"Random Forest\": RandomForestClassifier(random_state=42),\n",
        "        \"XGBoost\": XGBClassifier(eval_metric='logloss', random_state=42),\n",
        "        \"SVM\": SVC(probability=True, random_state=42),\n",
        "        \"Logistic Regression CV\": LogisticRegressionCV(cv=5, max_iter=1000),\n",
        "        \"Ridge Classifier\": RidgeClassifier(),\n",
        "        \"KNN\": KNeighborsClassifier()\n",
        "    }\n",
        "\n",
        "    results = []\n",
        "\n",
        "    for name, model in models.items():\n",
        "        model.fit(X_resampled, y_resampled)\n",
        "        y_pred = model.predict(X_test_scaled)\n",
        "        y_proba = model.predict_proba(X_test_scaled)[:, 1] if hasattr(model, \"predict_proba\") else None\n",
        "\n",
        "        print(f\"\\n🔷 Model: {name}\")\n",
        "        print(f\"🔹 Accuracy:  {accuracy_score(y_test, y_pred):.4f}\")\n",
        "        print(f\"🔹 Precision: {precision_score(y_test, y_pred):.4f}\")\n",
        "        print(f\"🔹 Recall:    {recall_score(y_test, y_pred):.4f}\")\n",
        "        print(f\"🔹 F1 Score:  {f1_score(y_test, y_pred):.4f}\")\n",
        "        if y_proba is not None:\n",
        "            try:\n",
        "                print(f\"🔹 ROC AUC:   {roc_auc_score(y_test, y_proba):.4f}\")\n",
        "            except:\n",
        "                print(\"⚠️ ROC AUC could not be calculated.\")\n",
        "\n",
        "        print(f\"\\n🔸 Classification Report:\\n{classification_report(y_test, y_pred)}\")\n",
        "\n",
        "        results.append({\n",
        "            \"Model\": name,\n",
        "            \"Accuracy\": accuracy_score(y_test, y_pred),\n",
        "            \"F1 Score\": f1_score(y_test, y_pred),\n",
        "            \"ROC AUC\": roc_auc_score(y_test, y_proba) if y_proba is not None else None\n",
        "        })\n",
        "\n",
        "    return results\n"
      ]
    },
    {
      "cell_type": "code",
      "execution_count": null,
      "metadata": {
        "colab": {
          "base_uri": "https://localhost:8080/"
        },
        "id": "GfmP5OIBS35W",
        "outputId": "9dee0097-3ca7-4d7a-d1c3-40bff460dd52"
      },
      "outputs": [],
      "source": [
        "results = models_eval_mm(X_test_scaled, y_test, X_resampled, y_resampled)"
      ]
    },
    {
      "cell_type": "code",
      "execution_count": null,
      "metadata": {
        "colab": {
          "base_uri": "https://localhost:8080/"
        },
        "id": "stpjLCOYXYi0",
        "outputId": "0a9e7f30-7aef-4dfe-d023-f3247f51c214"
      },
      "outputs": [],
      "source": [
        "from sklearn.model_selection import cross_val_score, StratifiedKFold\n",
        "\n",
        "# Define your models again properly in a dictionary\n",
        "models = {\n",
        "    \"Logistic Regression\": LogisticRegression(max_iter=1000),\n",
        "    \"Random Forest\": RandomForestClassifier(random_state=42),\n",
        "    \"XGBoost\": XGBClassifier(eval_metric='logloss', random_state=42),\n",
        "    \"SVM\": SVC(probability=True, random_state=42),\n",
        "    \"Logistic Regression CV\": LogisticRegressionCV(cv=5, max_iter=1000),\n",
        "    \"Ridge Classifier\": RidgeClassifier(),\n",
        "    \"KNN\": KNeighborsClassifier()\n",
        "}\n",
        "\n",
        "# Stratified K-Fold\n",
        "skf = StratifiedKFold(n_splits=5, shuffle=True, random_state=42)\n",
        "\n",
        "# Evaluate models using F1 score\n",
        "for name, model in models.items():\n",
        "    scores = cross_val_score(model, X_selected, y, scoring='f1', cv=skf)\n",
        "    print(f\"🔷 {name}: Mean F1 Score (CV): {scores.mean():.4f}\")\n"
      ]
    },
    {
      "cell_type": "code",
      "execution_count": null,
      "metadata": {
        "colab": {
          "base_uri": "https://localhost:8080/"
        },
        "id": "kPY3izSidnoq",
        "outputId": "6e4c88c1-60b0-410a-8ce9-974e74355029"
      },
      "outputs": [],
      "source": [
        "# Define the parameter grid to search\n",
        "param_grid = {\n",
        "    'n_estimators': [100, 200, 300],\n",
        "    'max_depth': [None, 10, 20, 30],\n",
        "    'min_samples_split': [2, 5, 10],\n",
        "    'min_samples_leaf': [1, 2, 4],\n",
        "    'bootstrap': [True, False]\n",
        "}\n",
        "\n",
        "# Create the base model\n",
        "rf = RandomForestClassifier(class_weight='balanced', random_state=42)\n",
        "\n",
        "# Set up GridSearchCV\n",
        "grid_search = GridSearchCV(\n",
        "    estimator=rf,\n",
        "    param_grid=param_grid,\n",
        "    cv=5,\n",
        "    scoring='f1',   # or use 'roc_auc', 'accuracy', etc. based on your goal\n",
        "    n_jobs=-1,\n",
        "    verbose=2\n",
        ")\n",
        "\n",
        "# Fit the model\n",
        "grid_search.fit(X_resampled, y_resampled)\n",
        "\n",
        "# Best model\n",
        "best_rf = grid_search.best_estimator_"
      ]
    },
    {
      "cell_type": "code",
      "execution_count": null,
      "metadata": {
        "colab": {
          "base_uri": "https://localhost:8080/"
        },
        "id": "Vi7_U0NOkN0D",
        "outputId": "1ea853f1-c703-492e-9c3f-a5703ad2e592"
      },
      "outputs": [],
      "source": [
        "# Print best parameters\n",
        "print(\"✅ Best Parameters:\", grid_search.best_params_)"
      ]
    },
    {
      "cell_type": "code",
      "execution_count": null,
      "metadata": {
        "id": "iuWODi33na_8"
      },
      "outputs": [],
      "source": [
        "# Make predictions on test set\n",
        "y_pred = best_rf.predict(X_test_scaled)\n",
        "y_proba =best_rf.predict_proba(X_test_scaled)[:, 1]"
      ]
    },
    {
      "cell_type": "code",
      "execution_count": null,
      "metadata": {
        "colab": {
          "base_uri": "https://localhost:8080/"
        },
        "id": "XoyE8v_9n3OK",
        "outputId": "1336846d-51b9-463a-e3e5-44143b8199ce"
      },
      "outputs": [],
      "source": [
        "# 2. Evaluation Metrics\n",
        "print(\"🔹 Accuracy:\", accuracy_score(y_test, y_pred))\n",
        "print(\"🔹 Precision:\", precision_score(y_test, y_pred))\n",
        "print(\"🔹 Recall:\", recall_score(y_test, y_pred))\n",
        "print(\"🔹 F1 Score:\", f1_score(y_test, y_pred))\n",
        "print(\"🔹 ROC AUC Score:\", roc_auc_score(y_test, y_proba))"
      ]
    },
    {
      "cell_type": "code",
      "execution_count": null,
      "metadata": {
        "colab": {
          "base_uri": "https://localhost:8080/"
        },
        "id": "LDisoSQ0GldO",
        "outputId": "c7a76c1e-8cb5-408e-8f81-cc691ac30b15"
      },
      "outputs": [],
      "source": [
        "# 3. Confusion Matrix & Classification Report\n",
        "print(\"\\n🔹 Confusion Matrix:\\n\", confusion_matrix(y_test, y_pred))\n",
        "print(\"\\n🔹 Classification Report:\\n\", classification_report(y_test, y_pred))"
      ]
    },
    {
      "cell_type": "code",
      "execution_count": null,
      "metadata": {
        "colab": {
          "base_uri": "https://localhost:8080/"
        },
        "id": "Sg_Zz871oBZY",
        "outputId": "1546aee4-fbff-41ce-8865-b38762f46f48"
      },
      "outputs": [],
      "source": [
        "# Cross Validation\n",
        "scores = cross_val_score(grid_search.best_estimator_, X_resampled, y_resampled, cv=5, scoring='roc_auc')\n",
        "print(\"Mean AUC (CV):\", scores.mean())"
      ]
    },
    {
      "cell_type": "code",
      "execution_count": null,
      "metadata": {
        "id": "8PRhePGSBDT6"
      },
      "outputs": [],
      "source": [
        "# Mannual Testing\n",
        "sample_input = pd.DataFrame([{\n",
        "    \"Total Bilirubin (mg/dl)\": 7,\n",
        "    \"Duration of alcohol consumption(years)\": 12,\n",
        "    \"Direct (mg/dl)\": 4,\n",
        "    \"AL.Phosphatase (U/L)\": 150,\n",
        "    \"Platelet Count (lakhs/mm)\": 1.5,\n",
        "    \"Indirect (mg/dl)\": 3,\n",
        "    \"Polymorphs (%)\": 60,\n",
        "    \"Albumin (g/dl)\": 3,\n",
        "    \"PCV (%)\": 40,\n",
        "    \"SGOT/AST (U/L)\": 56,\n",
        "    \"Lymphocytes (%)\": 35,\n",
        "    \"Age\": 55,\n",
        "    \"Monocytes (%)\": 2,\n",
        "    \"BP_Systolic\": 138,\n",
        "    \"Hemoglobin (g/dl)\": 9.2,\n",
        "    \"Quantity of alcohol consumption (quarters/day)\": 2,\n",
        "    \"Diabetes Result\": 1,\n",
        "    \"Total Protein (g/dl)\": 6,\n",
        "    \"SGPT/ALT (U/L)\": 34,\n",
        "    \"Globulin (g/dl)\": 4\n",
        "}])\n",
        "sample_input2 = pd.DataFrame([{\n",
        "    \"Total Bilirubin (mg/dl)\": 0.3,\n",
        "    \"Duration of alcohol consumption(years)\": 8,\n",
        "    \"Direct (mg/dl)\": 1,\n",
        "    \"AL.Phosphatase (U/L)\": 56,\n",
        "    \"Platelet Count (lakhs/mm)\": 3,\n",
        "    \"Indirect (mg/dl)\": 2,\n",
        "    \"Polymorphs (%)\": 60,\n",
        "    \"Albumin (g/dl)\": 4.2,\n",
        "    \"PCV (%)\": 36,\n",
        "    \"SGOT/AST (U/L)\": 110,\n",
        "    \"Lymphocytes (%)\": 20,\n",
        "    \"Age\": 52,\n",
        "    \"Monocytes (%)\": 2,\n",
        "    \"BP_Systolic\": 110,\n",
        "    \"Hemoglobin (g/dl)\": 13,\n",
        "    \"Quantity of alcohol consumption (quarters/day)\": 3,\n",
        "    \"Diabetes Result\": 0,\n",
        "    \"Total Protein (g/dl)\": 7.1, #\n",
        "    \"SGPT/ALT (U/L)\": 70,\n",
        "    \"Globulin (g/dl)\": 2.5\n",
        "}])"
      ]
    },
    {
      "cell_type": "code",
      "execution_count": null,
      "metadata": {
        "id": "sfu3axEQBvlI"
      },
      "outputs": [],
      "source": [
        "sample_scaled = scaler.transform(sample_input2)"
      ]
    },
    {
      "cell_type": "code",
      "execution_count": null,
      "metadata": {
        "colab": {
          "base_uri": "https://localhost:8080/"
        },
        "id": "RIP7vy6kBx8Q",
        "outputId": "ac06fbca-2a18-45aa-ae7d-0896c5378763"
      },
      "outputs": [],
      "source": [
        "# Predict\n",
        "prediction = best_rf.predict(sample_scaled)\n",
        "probability = best_rf.predict_proba(sample_scaled)\n",
        "\n",
        "# Extract confidence (probability of the predicted class)\n",
        "predicted_class = int(prediction[0])\n",
        "confidence = probability[0][predicted_class] * 100\n",
        "\n",
        "# Display results\n",
        "print(f\"Predicted Class: {predicted_class}\")\n",
        "print(f\"Confidence: {confidence:.1f}%\")\n"
      ]
    },
    {
      "cell_type": "code",
      "execution_count": null,
      "metadata": {
        "colab": {
          "base_uri": "https://localhost:8080/"
        },
        "id": "1LGM7kvzoXTW",
        "outputId": "f6394af8-56d3-48a8-d877-86c9cabf0d18"
      },
      "outputs": [],
      "source": [
        "# Save the Model\n",
        "joblib.dump(best_rf, 'rf_acc_68.pkl')\n",
        "joblib.dump(scaler, 'normalizer.pkl')"
      ]
    },
    {
      "cell_type": "code",
      "execution_count": null,
      "metadata": {
        "id": "Z1J7tQCiExCv"
      },
      "outputs": [],
      "source": []
    }
  ],
  "metadata": {
    "colab": {
      "provenance": []
    },
    "kernelspec": {
      "display_name": "Python 3",
      "name": "python3"
    },
    "language_info": {
      "codemirror_mode": {
        "name": "ipython",
        "version": 3
      },
      "file_extension": ".py",
      "mimetype": "text/x-python",
      "name": "python",
      "nbconvert_exporter": "python",
      "pygments_lexer": "ipython3",
      "version": "3.10.9"
    }
  },
  "nbformat": 4,
  "nbformat_minor": 0
}
